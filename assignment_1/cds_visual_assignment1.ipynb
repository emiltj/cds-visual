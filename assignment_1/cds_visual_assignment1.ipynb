{
 "cells": [
  {
   "cell_type": "markdown",
   "metadata": {},
   "source": [
    "# Assignment 1\n",
    "## Basic scripting with Python\n",
    "\n",
    "Create or find small dataset of images, using an online data source such as Kaggle. At the very least, your dataset should contain no fewer than 10 images.\n",
    "\n",
    "\n",
    "\n",
    "## Write a Python script which does the following:\n",
    "\n",
    "For each image, find the width, height, and number of channels\n",
    "For each image, split image into four equal-sized quadrants (i.e. top-left, top-right, bottom-left, bottom-right)\n",
    "Save each of the split images in JPG format\n",
    "Create and save a file containing the filename, width, height for all of the new images.\n",
    "\n",
    "\n",
    "## General instructions\n",
    "\n",
    "For this exercise, you can upload either a standalone script OR a Jupyter Notebook\n",
    "Save your script as basic_image_processing.py OR basic_image_processing.ipynb\n",
    "If you have external dependencies, you must include a requirements.txt\n",
    "You can either upload the script here or push to GitHub and include a link - or both!\n",
    "Your code should be clearly documented in a way that allows others to easily follow the structure of your script.\n",
    "Similarly, remember to use descriptive variable names! A name like width is more readable than w.\n",
    "The filenames of the split images should clearly relate to the original image.\n",
    "\n",
    "\n",
    "## Purpose\n",
    "\n",
    "This assignment is designed to test that you have a understanding of:\n",
    "\n",
    "how to structure, document, and share a Python script;\n",
    "how to effectively make use of basic functions in cv2;\n",
    "how to read, write, and process images files."
   ]
  },
  {
   "cell_type": "code",
   "execution_count": 4,
   "metadata": {},
   "outputs": [],
   "source": [
    "import os, glob, cv2, re\n",
    "import numpy as np\n",
    "import pandas as pd\n",
    "import sys\n",
    "sys.path.append(os.path.join(\"..\"))\n",
    "from utils.imutils import jimshow # imported our own function # NOT NEEDED\n",
    "\n",
    "filepath = os.path.join(\"..\", \"data\", \"Pokemon_Images\", '*.jpg')\n",
    "outpath = os.path.join(\"..\", \"data\", \"Pokemon_Images_Quadrants\")\n",
    "if os.path.exists(outpath) == False:\n",
    "    os.mkdir(outpath)"
   ]
  },
  {
   "cell_type": "code",
   "execution_count": 5,
   "metadata": {},
   "outputs": [],
   "source": [
    "def img_split_quadrants(img):\n",
    "    height, width, n_channels = img.shape\n",
    "    \n",
    "    upper_left = img[0:int(round(height/2)),0:int(round(width/2))]\n",
    "    upper_right = img[0:int(round(height/2)),int(round(width/2)):-1]\n",
    "    lower_left = img[int(round(height/2)):-1,0:int(round(width/2))]\n",
    "    lower_right = img[int(round(height/2)):-1,int(round(width/2)):-1]\n",
    "    \n",
    "    # Returning the 4 quadrants\n",
    "    return (upper_left, upper_right, lower_left, lower_right)"
   ]
  },
  {
   "cell_type": "code",
   "execution_count": 6,
   "metadata": {},
   "outputs": [],
   "source": [
    "quadrant_filenames = list()\n",
    "quadrant_heights = list()\n",
    "quadrant_widths = list()\n",
    "quadrant_n_channels = list()"
   ]
  },
  {
   "cell_type": "code",
   "execution_count": 7,
   "metadata": {},
   "outputs": [],
   "source": [
    "for file in glob.glob(filepath):\n",
    "    filename = os.path.split(file)[1]\n",
    "    img = cv2.imread(file)\n",
    "    section_names = [\"top_left\", \"top_right\", \"bottom_left\", \"bottom_right\"]\n",
    "    quadrants = dict(zip(section_names, img_split_quadrants(img)))\n",
    "    \n",
    "    for quadrant_name, quadrant_img in quadrants.items():\n",
    "        height, width, n_channels = quadrant_img.shape\n",
    "        quadrant_filename = f\"{filename}_{quadrant_name}.jpg\"\n",
    "        outfile = os.path.join(outpath, quadrant_filename)\n",
    "        cv2.imwrite(outfile, quadrant_img)\n",
    "        \n",
    "        quadrant_filenames.append(quadrant_filename)\n",
    "        quadrant_heights.append(height)\n",
    "        quadrant_widths.append(width)\n",
    "        quadrant_n_channels.append(n_channels)"
   ]
  },
  {
   "cell_type": "code",
   "execution_count": 8,
   "metadata": {},
   "outputs": [],
   "source": [
    "meta_data = pd.DataFrame(\n",
    "    {'filename': quadrant_filenames, \n",
    "     'height': quadrant_heights, \n",
    "     'width': quadrant_widths, \n",
    "     'n_channels': quadrant_n_channels})"
   ]
  },
  {
   "cell_type": "code",
   "execution_count": 11,
   "metadata": {},
   "outputs": [],
   "source": [
    "outpath_meta_data = os.path.join(\"..\", \"data\", \"Pokemon_Images_Quadrants\", \"meta_data.csv\")"
   ]
  },
  {
   "cell_type": "code",
   "execution_count": 12,
   "metadata": {},
   "outputs": [],
   "source": [
    "meta_data.to_csv(outpath_meta_data)"
   ]
  },
  {
   "cell_type": "code",
   "execution_count": null,
   "metadata": {},
   "outputs": [],
   "source": []
  }
 ],
 "metadata": {
  "kernelspec": {
   "display_name": "cv101",
   "language": "python",
   "name": "cv101"
  },
  "language_info": {
   "codemirror_mode": {
    "name": "ipython",
    "version": 3
   },
   "file_extension": ".py",
   "mimetype": "text/x-python",
   "name": "python",
   "nbconvert_exporter": "python",
   "pygments_lexer": "ipython3",
   "version": "3.9.1-final"
  }
 },
 "nbformat": 4,
 "nbformat_minor": 4
}