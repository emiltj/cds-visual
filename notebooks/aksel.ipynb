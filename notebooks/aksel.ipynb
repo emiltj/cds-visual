{
 "cells": [
  {
   "cell_type": "code",
   "execution_count": 1,
   "metadata": {},
   "outputs": [],
   "source": [
    "# I start by importing the packages\n",
    "import os\n",
    "import sys\n",
    "sys.path.append(os.path.join(\"..\"))\n",
    "import cv2\n",
    "import glob\n",
    "import numpy as np\n",
    "sys.path.append(os.path.join(\"..\"))\n",
    "from utils.imutils import jimshow\n",
    "from utils.imutils import jimshow_channel\n",
    "import matplotlib.pyplot as plt\n",
    "from pathlib import Path\n",
    "import pandas as pd"
   ]
  },
  {
   "cell_type": "code",
   "execution_count": 2,
   "metadata": {},
   "outputs": [],
   "source": [
    "def jimshow_channel(image, title=False):\n",
    "    \"\"\"\n",
    "    Modified jimshow() to plot individual channels\n",
    "    \"\"\"\n",
    "    # Acquire default dots per inch value of matplotlib\n",
    "    dpi = mpl.rcParams['figure.dpi']\n",
    "    height, width = image.shape\n",
    "    figsize = width / float(dpi), height / float(dpi)\n",
    "    plt.figure(figsize=figsize)\n",
    "    plt.imshow(image, cmap='gray')\n",
    "    if title:\n",
    "        plt.title(title)\n",
    "    plt.axis('off')\n",
    "    plt.show()"
   ]
  },
  {
   "cell_type": "code",
   "execution_count": 3,
   "metadata": {},
   "outputs": [
    {
     "output_type": "execute_result",
     "data": {
      "text/plain": [
       "'c:\\\\Users\\\\Lenovo\\\\Desktop\\\\Diverse dokumenter\\\\Cognitive Science\\\\cultural_data_science\\\\cds-visual\\\\notebooks'"
      ]
     },
     "metadata": {},
     "execution_count": 3
    }
   ],
   "source": [
    "os.getcwd()"
   ]
  },
  {
   "cell_type": "code",
   "execution_count": 4,
   "metadata": {},
   "outputs": [],
   "source": [
    "# Loading the target image\n",
    "target_image = cv2.imread(os.path.join(\"..\", \"data\", \"flowers\",\"image_0001.jpg\"))"
   ]
  },
  {
   "cell_type": "code",
   "execution_count": 15,
   "metadata": {},
   "outputs": [],
   "source": [
    "# Making the path to the images\n",
    "filepath = os.path.join(\"..\", \"data\", \"flowers\")"
   ]
  },
  {
   "cell_type": "code",
   "execution_count": 16,
   "metadata": {},
   "outputs": [],
   "source": [
    "# I create the histogram for the target image\n",
    "hist1 = cv2.calcHist([target_image], [0,1,2], None, [8,8,8], [0,256, 0,256, 0,256])"
   ]
  },
  {
   "cell_type": "code",
   "execution_count": 17,
   "metadata": {},
   "outputs": [],
   "source": [
    "# I create an empty list\n",
    "list_of_comparisons = []"
   ]
  },
  {
   "cell_type": "code",
   "execution_count": 18,
   "metadata": {},
   "outputs": [],
   "source": [
    "# Creates a loop that reads all the images in the folder, creates a histogram for these and calculates the \n",
    "# differnces between these images and the target image\n",
    "for filename in Path(filepath).glob(\"*.jpg\"):\n",
    "    comparison_image = cv2.imread(str(filename))\n",
    "    hist2 = cv2.calcHist([comparison_image], [0,1,2], None, [8,8,8], [0,256, 0,256, 0,256])\n",
    "    distance = cv2.calcHist(hist1, hist2, cv2.HISTCMP_CHISQR, 2, 256)\n",
    "    list_of_comparisons.append(filename, distance)\n",
    "\n",
    "## When I run this code the kernel dies. Anyone know why?"
   ]
  },
  {
   "cell_type": "code",
   "execution_count": 14,
   "metadata": {},
   "outputs": [
    {
     "output_type": "execute_result",
     "data": {
      "text/plain": [
       "[]"
      ]
     },
     "metadata": {},
     "execution_count": 14
    }
   ],
   "source": [
    "# This should show the list of differences, but doesn't...\n",
    "list_of_comparisons"
   ]
  },
  {
   "cell_type": "code",
   "execution_count": null,
   "metadata": {},
   "outputs": [],
   "source": []
  }
 ],
 "metadata": {
  "kernelspec": {
   "display_name": "cv101",
   "language": "python",
   "name": "cv101"
  },
  "language_info": {
   "codemirror_mode": {
    "name": "ipython",
    "version": 3
   },
   "file_extension": ".py",
   "mimetype": "text/x-python",
   "name": "python",
   "nbconvert_exporter": "python",
   "pygments_lexer": "ipython3",
   "version": "3.9.1-final"
  }
 },
 "nbformat": 4,
 "nbformat_minor": 4
}