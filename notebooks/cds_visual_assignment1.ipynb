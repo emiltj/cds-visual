{
 "cells": [
  {
   "cell_type": "markdown",
   "metadata": {},
   "source": [
    "# Assignment 1\n",
    "## Basic scripting with Python\n",
    "\n",
    "Create or find small dataset of images, using an online data source such as Kaggle. At the very least, your dataset should contain no fewer than 10 images.\n",
    "\n",
    "\n",
    "\n",
    "## Write a Python script which does the following:\n",
    "\n",
    "For each image, find the width, height, and number of channels\n",
    "For each image, split image into four equal-sized quadrants (i.e. top-left, top-right, bottom-left, bottom-right)\n",
    "Save each of the split images in JPG format\n",
    "Create and save a file containing the filename, width, height for all of the new images.\n",
    "\n",
    "\n",
    "## General instructions\n",
    "\n",
    "For this exercise, you can upload either a standalone script OR a Jupyter Notebook\n",
    "Save your script as basic_image_processing.py OR basic_image_processing.ipynb\n",
    "If you have external dependencies, you must include a requirements.txt\n",
    "You can either upload the script here or push to GitHub and include a link - or both!\n",
    "Your code should be clearly documented in a way that allows others to easily follow the structure of your script.\n",
    "Similarly, remember to use descriptive variable names! A name like width is more readable than w.\n",
    "The filenames of the split images should clearly relate to the original image.\n",
    "\n",
    "\n",
    "## Purpose\n",
    "\n",
    "This assignment is designed to test that you have a understanding of:\n",
    "\n",
    "how to structure, document, and share a Python script;\n",
    "how to effectively make use of basic functions in cv2;\n",
    "how to read, write, and process images files."
   ]
  },
  {
   "cell_type": "code",
   "execution_count": 2,
   "metadata": {},
   "outputs": [
    {
     "ename": "ModuleNotFoundError",
     "evalue": "No module named 'cv2'",
     "output_type": "error",
     "traceback": [
      "\u001b[1;31m---------------------------------------------------------------------------\u001b[0m",
      "\u001b[1;31mModuleNotFoundError\u001b[0m                       Traceback (most recent call last)",
      "\u001b[1;32m<ipython-input-2-76878ffbea1f>\u001b[0m in \u001b[0;36m<module>\u001b[1;34m\u001b[0m\n\u001b[0;32m      1\u001b[0m \u001b[1;32mimport\u001b[0m \u001b[0mos\u001b[0m\u001b[1;33m\u001b[0m\u001b[1;33m\u001b[0m\u001b[0m\n\u001b[0;32m      2\u001b[0m \u001b[1;32mimport\u001b[0m \u001b[0mnumpy\u001b[0m \u001b[1;32mas\u001b[0m \u001b[0mnp\u001b[0m\u001b[1;33m\u001b[0m\u001b[1;33m\u001b[0m\u001b[0m\n\u001b[1;32m----> 3\u001b[1;33m \u001b[1;32mimport\u001b[0m \u001b[0mcv2\u001b[0m\u001b[1;33m\u001b[0m\u001b[1;33m\u001b[0m\u001b[0m\n\u001b[0m\u001b[0;32m      4\u001b[0m \u001b[1;33m\u001b[0m\u001b[0m\n\u001b[0;32m      5\u001b[0m \u001b[0mfilepath\u001b[0m \u001b[1;33m=\u001b[0m \u001b[0mos\u001b[0m\u001b[1;33m.\u001b[0m\u001b[0mpath\u001b[0m\u001b[1;33m.\u001b[0m\u001b[0mjoin\u001b[0m\u001b[1;33m(\u001b[0m\u001b[1;34m\"..\"\u001b[0m\u001b[1;33m,\u001b[0m \u001b[1;34m\"data\"\u001b[0m\u001b[1;33m,\u001b[0m \u001b[1;34m\"Pokemon_Images\"\u001b[0m\u001b[1;33m)\u001b[0m\u001b[1;33m\u001b[0m\u001b[1;33m\u001b[0m\u001b[0m\n",
      "\u001b[1;31mModuleNotFoundError\u001b[0m: No module named 'cv2'"
     ]
    }
   ],
   "source": [
    "import os\n",
    "import numpy as np\n",
    "import cv2\n",
    "\n",
    "filepath = os.path.join(\"..\", \"data\", \"Pokemon_Images\")\n",
    "\n",
    "filepath1 = os.path.join(\"..\", \"data\", \"Pokemon_Images\" \"005-Charmeleon.jpg\")"
   ]
  },
  {
   "cell_type": "code",
   "execution_count": 1,
   "metadata": {},
   "outputs": [],
   "source": [
    "def img_split_quadrants(img):\n",
    "    \n",
    "    # Returning the 4 quadrants\n",
    "    return shifted\n",
    "    "
   ]
  },
  {
   "cell_type": "code",
   "execution_count": null,
   "metadata": {},
   "outputs": [],
   "source": [
    "for file in Path(filepath).glob(\"*.txt\"): # For each file in the filepath that ends with .txt, read the file into \"text\"\n",
    "    with open(file, \"r\", encoding=\"utf-8\") as file: \n",
    "        text = file.read()"
   ]
  }
 ],
 "metadata": {
  "kernelspec": {
   "display_name": "Python 3",
   "language": "python",
   "name": "python3"
  },
  "language_info": {
   "codemirror_mode": {
    "name": "ipython",
    "version": 3
   },
   "file_extension": ".py",
   "mimetype": "text/x-python",
   "name": "python",
   "nbconvert_exporter": "python",
   "pygments_lexer": "ipython3",
   "version": "3.8.3"
  }
 },
 "nbformat": 4,
 "nbformat_minor": 4
}
